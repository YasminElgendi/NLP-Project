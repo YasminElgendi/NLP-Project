{
 "cells": [
  {
   "cell_type": "markdown",
   "metadata": {},
   "source": [
    "### Imports\n"
   ]
  },
  {
   "cell_type": "code",
   "execution_count": null,
   "metadata": {},
   "outputs": [],
   "source": [
    "%pip install tensorflow\n",
    "%pip install numpy\n",
    "%pip install farasapy\n",
    "%pip install pyarabic\n",
    "\n",
    "\n",
    "nltk.download('punkt')"
   ]
  },
  {
   "cell_type": "code",
   "execution_count": 1,
   "metadata": {},
   "outputs": [
    {
     "name": "stderr",
     "output_type": "stream",
     "text": [
      "c:\\Users\\77\\anaconda3\\lib\\site-packages\\scipy\\__init__.py:155: UserWarning: A NumPy version >=1.18.5 and <1.25.0 is required for this version of SciPy (detected version 1.26.2\n",
      "  warnings.warn(f\"A NumPy version >={np_minversion} and <{np_maxversion}\"\n"
     ]
    }
   ],
   "source": [
    "from Preprocessing import *\n",
    "import nltk\n",
    "from farasa.segmenter import FarasaSegmenter"
   ]
  },
  {
   "cell_type": "markdown",
   "metadata": {},
   "source": [
    "### 1- Read Data\n"
   ]
  },
  {
   "cell_type": "code",
   "execution_count": 2,
   "metadata": {},
   "outputs": [
    {
     "name": "stdout",
     "output_type": "stream",
     "text": [
      "Read training set successfully\n",
      "Read validation set successfully\n"
     ]
    }
   ],
   "source": [
    "# 1-Read Datasets\n",
    "training_dataset = read_training_dataset()\n",
    "dev_dataset = read_dev_dataset()"
   ]
  },
  {
   "cell_type": "markdown",
   "metadata": {},
   "source": [
    "### 2- Clean Data\n"
   ]
  },
  {
   "cell_type": "code",
   "execution_count": 3,
   "metadata": {},
   "outputs": [
    {
     "name": "stdout",
     "output_type": "stream",
     "text": [
      "50000\n"
     ]
    }
   ],
   "source": [
    "# 2-Data cleaning\n",
    "# Define a regular expression pattern\n",
    "# This pattern keeps Arabic letters, diacritics, and whitespaces and endlines\n",
    "# pattern = re.compile(r\"[^\\u0600-\\u06FF\\u0750-\\u077F\\u08A0-\\u08FF\\s\\n]\")\n",
    "pattern = re.compile(r'[^\\u0600-\\u06FF\\u0750-\\u077F\\u08A0-\\u08FF\\s,.؟،;:!?\\-\\'\"]')\n",
    "\n",
    "\n",
    "# Replace unmatched characters with an empty string\n",
    "\n",
    "cleaned_corpus = [re.sub(pattern, \"\", t) for t in training_dataset]\n",
    "cleaned_corpus = [re.sub(\"\\s\\s+\", \" \", c) for c in cleaned_corpus]\n",
    "# re.sub(\"\\s\\s+\" , \" \", s)\n",
    "\n",
    "\n",
    "print(len(cleaned_corpus))\n",
    "# write the clean corpus to file\n",
    "with open(\"cleaned_corpus.txt\", \"w\", encoding=\"utf-8\") as f:\n",
    "    for l in cleaned_corpus:\n",
    "        f.write(l + \"\\n\")"
   ]
  },
  {
   "cell_type": "code",
   "execution_count": 4,
   "metadata": {},
   "outputs": [],
   "source": [
    "# data_with_labels = []\n",
    "data = []\n",
    "labels = []\n",
    "# Example usage\n",
    "for c in cleaned_corpus:\n",
    "    sentences = re.split(r\"[,.؟،;:!?']+\", c)  # split on all punctuation\n",
    "    labels += sentences\n",
    "\n",
    "    without_dialects = [\n",
    "        extract_arabic_letters(s) for s in sentences\n",
    "    ]  # get the letters without dialects\n",
    "    data += without_dialects\n",
    "\n",
    "\n",
    "# remove any spaces from line\n",
    "data = [d.strip() for d in data]\n",
    "labels = [l.strip() for l in labels]\n",
    "\n",
    "# remove empty lines\n",
    "# data = [i for i in data if i]\n",
    "# labels = [i for i in labels if i]\n",
    "# data = list(filter(lambda x: x != \"\", data))\n",
    "# labels = list(filter(lambda x: x != \"\", labels))\n",
    "\n",
    "# write the clean corpus to file\n",
    "with open(\"training_data.txt\", \"w\", encoding=\"utf-8\") as f:\n",
    "    for d in data:\n",
    "        f.write(str(d) + \"\\n\")\n",
    "\n",
    "with open(\"training_labels.txt\", \"w\", encoding=\"utf-8\") as f:\n",
    "    for l in labels:\n",
    "        f.write(str(l) + \"\\n\")"
   ]
  },
  {
   "cell_type": "code",
   "execution_count": 5,
   "metadata": {},
   "outputs": [
    {
     "name": "stdout",
     "output_type": "stream",
     "text": [
      "212012\n",
      "212012\n"
     ]
    }
   ],
   "source": [
    "print(len(data))\n",
    "print(len(labels))\n",
    "# # data.remove(\"\")\n",
    "# print(data[9])"
   ]
  },
  {
   "cell_type": "markdown",
   "metadata": {},
   "source": [
    "### 3- Tokenize Data\n"
   ]
  },
  {
   "cell_type": "code",
   "execution_count": 6,
   "metadata": {},
   "outputs": [],
   "source": [
    "# 3.1 Tokenize & stem words to vocab\n",
    "vocab = set()\n",
    "tokenized_data = []\n",
    "vocab, tokenized_data = tokenize_to_vocab(data, vocab)\n",
    "stemmedVocab = []\n",
    "\n",
    "for v in vocab:\n",
    "    stemmedVocab.append(stem(v))\n",
    "# stemmedVocab = set(stemmedVocab)\n",
    "\n",
    "with open(\"vocab.txt\", \"w\", encoding=\"utf-8\") as f:\n",
    "    for v in vocab:\n",
    "        f.write(str(v) + \"\\n\")\n",
    "\n",
    "with open(\"stemmedvocab.txt\", \"w\", encoding=\"utf-8\") as f:\n",
    "    for sv in stemmedVocab:\n",
    "        f.write(str(sv) + \"\\n\")\n",
    "\n",
    "with open(\"tokenized_data_sentences.txt\", \"w\", encoding=\"utf-8\") as f:\n",
    "    for ts in tokenized_data:\n",
    "        f.write(str(ts) + \"\\n\")"
   ]
  },
  {
   "cell_type": "code",
   "execution_count": 7,
   "metadata": {},
   "outputs": [],
   "source": [
    "# 3.1 Tokenize & stem words to vocab\n",
    "diacritics = set()\n",
    "tokenized_labels = []\n",
    "diacritics, tokenized_labels = tokenize_to_vocab(labels, vocab)\n",
    "\n",
    "\n",
    "with open(\"tokenized_label_sentences.txt\", \"w\", encoding=\"utf-8\") as f:\n",
    "    for tl in tokenized_labels:\n",
    "        f.write(str(tl) + \"\\n\")\n",
    "\n",
    "with open(\"diacritics.txt\", \"w\", encoding=\"utf-8\") as f:\n",
    "    for d in diacritics:\n",
    "        f.write(str(d) + \"\\n\")\n",
    "\n",
    "with open(\"diacritics_encoded.txt\", \"w\", encoding=\"utf-8\") as f:\n",
    "    for d in diacritics:\n",
    "        f.write(str(extract_diacritics(str(d))) + \"\\n\")"
   ]
  },
  {
   "cell_type": "code",
   "execution_count": 8,
   "metadata": {},
   "outputs": [
    {
     "name": "stdout",
     "output_type": "stream",
     "text": [
      "4728\n",
      "1600\n"
     ]
    }
   ],
   "source": [
    "# letters = u\"هاربا\"\n",
    "# encoded_marks = 40610\n",
    "# x= join_word_diacritics(letters, encoded_marks, \"decimal\")\n",
    "\n",
    "# Fat7a = 4, damma =5, kasra = 6, sokoon = 7\n",
    "# tanween fat7a =1, damma=2 , kasraa=3\n",
    "# shadda =70\n",
    "# print(x)\n",
    "\n",
    "# print(extract_diacritics(x))\n",
    "print(word_to_embedding(\"ببب\"))\n",
    "print(ord(\"ـ\"))  # 1568 -1610 ,,"
   ]
  },
  {
   "cell_type": "code",
   "execution_count": 9,
   "metadata": {},
   "outputs": [],
   "source": [
    "from collections import defaultdict, Counter\n",
    "import re"
   ]
  },
  {
   "cell_type": "code",
   "execution_count": 17,
   "metadata": {},
   "outputs": [],
   "source": [
    "# byte pain encoding\n",
    "def get_stats(vocab):\n",
    "    pairs = {}\n",
    "    for word, freq in vocab.items():\n",
    "        symbols = word.split()\n",
    "        for i in range(len(symbols) - 1):\n",
    "            pair = (symbols[i], symbols[i + 1])\n",
    "            pairs[pair] = pairs.get(pair, 0) + freq\n",
    "    return pairs\n",
    "\n",
    "\n",
    "def merge_vocab(pair, vocab_in):\n",
    "    vocab_out = {}\n",
    "    bigram = \" \".join(pair)\n",
    "    replacement = \"\".join(pair)\n",
    "    for word in vocab_in:\n",
    "        w_out = word.replace(bigram, replacement)\n",
    "        vocab_out[w_out] = vocab_in[word]\n",
    "    return vocab_out\n",
    "\n",
    "words = [l.split() for l in  labels]\n",
    "\n",
    "# unpack all lists inside words\n",
    "words = [item for sublist in words for item in sublist]\n",
    "\n",
    "# Build initial vocabulary (word frequency)\n",
    "vocab = Counter(words)\n",
    "\n",
    "# Tokenize into characters\n",
    "vocab = {' '.join(word) + ' </w>': freq for word, freq in vocab.items()}\n",
    "\n",
    "num_merges = 10000\n",
    "\n",
    "for i in range(num_merges):\n",
    "    pairs = get_stats(vocab)\n",
    "    if not pairs:\n",
    "        break\n",
    "\n",
    "    best = max(pairs, key=pairs.get)\n",
    "    vocab = merge_vocab(best, vocab)\n",
    "    # print(f\"Merge {i+1}: {best}\")"
   ]
  },
  {
   "cell_type": "code",
   "execution_count": 16,
   "metadata": {},
   "outputs": [],
   "source": [
    "#write vocab to file\n",
    "with open(\"vocab_bpe.txt\", \"w\", encoding=\"utf-8\") as f:\n",
    "    for v in vocab:\n",
    "        f.write(str(v) + \"\\n\")"
   ]
  },
  {
   "cell_type": "code",
   "execution_count": null,
   "metadata": {},
   "outputs": [],
   "source": []
  },
  {
   "cell_type": "code",
   "execution_count": 12,
   "metadata": {},
   "outputs": [],
   "source": [
    "# Import necessary libraries"
   ]
  },
  {
   "cell_type": "code",
   "execution_count": 13,
   "metadata": {},
   "outputs": [],
   "source": [
    "## NOTE\n",
    "# SEGMENTS EL KELMA 7ELW TA2REEBAN\n",
    "# # Download NLTK data (if not already downloaded)\n",
    "\n",
    "# # Initialize Farasa Segmenter\n",
    "# segmenter = FarasaSegmenter(interactive=True)\n",
    "\n",
    "# # Sample Dialectal Arabic text (replace with actual DA text)\n",
    "# # text_da = \"هذا نص باللهجة العربية الدارجة\"\n",
    "# # text_da = labels[0]\n",
    "# text_da = labels[1]\n",
    "\n",
    "\n",
    "# # Preprocessing steps (Normalization, Cleaning, etc.)\n",
    "# # This is a placeholder - implement specific preprocessing needed for your text\n",
    "# def preprocess_text(text):\n",
    "#     # Implement preprocessing steps here\n",
    "#     return text\n",
    "\n",
    "\n",
    "# # Preprocess the text\n",
    "# preprocessed_text = preprocess_text(text_da)\n",
    "\n",
    "# # Perform segmentation\n",
    "# segmented_text = segmenter.segment(preprocessed_text)\n",
    "\n",
    "# # Output the segmented text\n",
    "# print(segmented_text)"
   ]
  },
  {
   "cell_type": "code",
   "execution_count": null,
   "metadata": {},
   "outputs": [],
   "source": []
  }
 ],
 "metadata": {
  "kernelspec": {
   "display_name": "Python 3",
   "language": "python",
   "name": "python3"
  },
  "language_info": {
   "codemirror_mode": {
    "name": "ipython",
    "version": 3
   },
   "file_extension": ".py",
   "mimetype": "text/x-python",
   "name": "python",
   "nbconvert_exporter": "python",
   "pygments_lexer": "ipython3",
   "version": "3.9.13"
  }
 },
 "nbformat": 4,
 "nbformat_minor": 2
}
