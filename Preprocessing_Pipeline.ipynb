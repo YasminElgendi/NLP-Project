{
 "cells": [
  {
   "cell_type": "markdown",
   "metadata": {},
   "source": [
    "### Imports"
   ]
  },
  {
   "cell_type": "code",
   "execution_count": 1,
   "metadata": {},
   "outputs": [],
   "source": [
    "from Preprocessing import * \n"
   ]
  },
  {
   "cell_type": "markdown",
   "metadata": {},
   "source": [
    "### 1- Read Data"
   ]
  },
  {
   "cell_type": "code",
   "execution_count": 2,
   "metadata": {},
   "outputs": [
    {
     "name": "stdout",
     "output_type": "stream",
     "text": [
      "Read training set successfully\n",
      "Read validation set successfully\n"
     ]
    }
   ],
   "source": [
    "#1-Read Datasets\n",
    "training_dataset = read_training_dataset()\n",
    "dev_dataset = read_dev_dataset()"
   ]
  },
  {
   "cell_type": "markdown",
   "metadata": {},
   "source": [
    "### 2- Clean Data "
   ]
  },
  {
   "cell_type": "code",
   "execution_count": 3,
   "metadata": {},
   "outputs": [
    {
     "name": "stdout",
     "output_type": "stream",
     "text": [
      "50000\n"
     ]
    }
   ],
   "source": [
    "# 2-Data cleaning\n",
    "# Define a regular expression pattern\n",
    "# This pattern keeps Arabic letters, diacritics, and whitespaces and endlines\n",
    "# pattern = re.compile(r\"[^\\u0600-\\u06FF\\u0750-\\u077F\\u08A0-\\u08FF\\s\\n]\")\n",
    "pattern = re.compile(r'[^\\u0600-\\u06FF\\u0750-\\u077F\\u08A0-\\u08FF\\s,.؟،;:!?\\-\\'\"]')\n",
    "\n",
    "\n",
    "\n",
    "# Replace unmatched characters with an empty string\n",
    "\n",
    "cleaned_corpus = [re.sub(pattern, \"\", t) for t in training_dataset]\n",
    "cleaned_corpus = [re.sub(\"\\s\\s+\", \" \", c) for c in cleaned_corpus]\n",
    "# re.sub(\"\\s\\s+\" , \" \", s)\n",
    "\n",
    "\n",
    "print(len(cleaned_corpus))\n",
    "# write the clean corpus to file\n",
    "with open(\"cleaned_corpus.txt\", \"w\", encoding=\"utf-8\") as f:\n",
    "    for l in cleaned_corpus:\n",
    "        f.write(l + \"\\n\")"
   ]
  },
  {
   "cell_type": "code",
   "execution_count": 4,
   "metadata": {},
   "outputs": [],
   "source": [
    "# data_with_labels = []\n",
    "data = []\n",
    "labels = []\n",
    "# Example usage\n",
    "for c in cleaned_corpus:\n",
    "    sentences = re.split(r\"[,.؟،;:!?']+\", c)  # split on all punctuation\n",
    "    labels += sentences\n",
    "\n",
    "    without_dialects = [\n",
    "        extract_arabic_letters(s) for s in sentences\n",
    "    ]  # get the letters without dialects\n",
    "    data += without_dialects\n",
    "\n",
    "\n",
    "# remove any spaces from line\n",
    "data = [d.strip() for d in data]\n",
    "labels = [l.strip() for l in labels]\n",
    "\n",
    "# remove empty lines\n",
    "data = [i for i in data if i]\n",
    "labels = [i for i in labels if i]\n",
    "# data = list(filter(lambda x: x != \"\", data))\n",
    "labels = list(filter(lambda x: x != \"\", labels))\n",
    "\n",
    "# write the clean corpus to file\n",
    "with open(\"training_data.txt\", \"w\", encoding=\"utf-8\") as f:\n",
    "    for d in data:\n",
    "        f.write(str(d) + \"\\n\")\n",
    "\n",
    "with open(\"training_labels.txt\", \"w\", encoding=\"utf-8\") as f:\n",
    "    for l in labels:\n",
    "        f.write(str(l) + \"\\n\")"
   ]
  },
  {
   "cell_type": "code",
   "execution_count": 5,
   "metadata": {},
   "outputs": [
    {
     "name": "stdout",
     "output_type": "stream",
     "text": [
      "172228\n",
      "172299\n"
     ]
    }
   ],
   "source": [
    "print(len(data))\n",
    "print(len(labels))\n",
    "# # data.remove(\"\")\n",
    "# print(data[9])\n"
   ]
  },
  {
   "cell_type": "markdown",
   "metadata": {},
   "source": [
    "### 3- Tokenize Data"
   ]
  },
  {
   "cell_type": "code",
   "execution_count": 8,
   "metadata": {},
   "outputs": [],
   "source": [
    "\n",
    "#3.1 Tokenize & stem words to vocab\n",
    "vocab = set()\n",
    "tokenized_data=[]\n",
    "vocab, tokenized_data = tokenize_to_vocab(data, vocab)\n",
    "stemmedVocab = []\n",
    "\n",
    "for v in vocab:\n",
    "    stemmedVocab.append(stem(v))\n",
    "# stemmedVocab = set(stemmedVocab)\n",
    "\n",
    "with open(\"vocab.txt\", \"w\", encoding=\"utf-8\") as f:\n",
    "    for v in vocab:\n",
    "        f.write(str(v) + \"\\n\")\n",
    "\n",
    "with open(\"stemmedvocab.txt\", \"w\", encoding=\"utf-8\") as f:\n",
    "    for sv in stemmedVocab:\n",
    "        f.write(str(sv) + \"\\n\")\n",
    "\n",
    "with open(\"tokenized_data_sentences.txt\", \"w\", encoding=\"utf-8\") as f:\n",
    "    for ts in tokenized_data:\n",
    "        f.write(str(ts) + \"\\n\")\n"
   ]
  },
  {
   "cell_type": "code",
   "execution_count": 13,
   "metadata": {},
   "outputs": [],
   "source": [
    "#3.1 Tokenize & stem words to vocab\n",
    "diacritics = set()\n",
    "tokenized_labels=[]\n",
    "diacritics , tokenized_labels = tokenize_to_vocab(labels, vocab)\n",
    "\n",
    "\n",
    "with open(\"tokenized_label_sentences.txt\", \"w\", encoding=\"utf-8\") as f:\n",
    "    for tl in tokenized_labels:\n",
    "        f.write(str(tl) + \"\\n\")\n",
    "\n",
    "with open(\"diacritics.txt\", \"w\", encoding=\"utf-8\") as f:\n",
    "    for d in diacritics:\n",
    "        f.write(str(d) + \"\\n\")\n",
    "\n",
    "with open(\"diacritics_encoded.txt\", \"w\", encoding=\"utf-8\") as f:\n",
    "    for d in diacritics:\n",
    "        f.write(str(extract_diacritics(str(d))) + \"\\n\")"
   ]
  },
  {
   "cell_type": "code",
   "execution_count": 15,
   "metadata": {},
   "outputs": [
    {
     "ename": "ModuleNotFoundError",
     "evalue": "No module named 'fasttext'",
     "output_type": "error",
     "traceback": [
      "\u001b[1;31m---------------------------------------------------------------------------\u001b[0m",
      "\u001b[1;31mModuleNotFoundError\u001b[0m                       Traceback (most recent call last)",
      "Cell \u001b[1;32mIn[15], line 2\u001b[0m\n\u001b[0;32m      1\u001b[0m \u001b[38;5;66;03m#Word Embeddings\u001b[39;00m\n\u001b[1;32m----> 2\u001b[0m \u001b[38;5;28;01mimport\u001b[39;00m \u001b[38;5;21;01mfasttext\u001b[39;00m\u001b[38;5;21;01m.\u001b[39;00m\u001b[38;5;21;01mutil\u001b[39;00m\n\u001b[0;32m      3\u001b[0m fasttext\u001b[38;5;241m.\u001b[39mutil\u001b[38;5;241m.\u001b[39mdownload_model(\u001b[38;5;124m'\u001b[39m\u001b[38;5;124marabic.txt\u001b[39m\u001b[38;5;124m'\u001b[39m, if_exists\u001b[38;5;241m=\u001b[39m\u001b[38;5;124m'\u001b[39m\u001b[38;5;124mignore\u001b[39m\u001b[38;5;124m'\u001b[39m)  \u001b[38;5;66;03m# English\u001b[39;00m\n\u001b[0;32m      4\u001b[0m ft \u001b[38;5;241m=\u001b[39m fasttext\u001b[38;5;241m.\u001b[39mload_model(\u001b[38;5;124m'\u001b[39m\u001b[38;5;124mcc.en.300.bin\u001b[39m\u001b[38;5;124m'\u001b[39m)\n",
      "\u001b[1;31mModuleNotFoundError\u001b[0m: No module named 'fasttext'"
     ]
    }
   ],
   "source": [
    "#Word Embeddings\n",
    "pip install fasttext\n",
    "import fasttext.util\n",
    "fasttext.util.download_model('arabic.txt', if_exists='ignore')  # English\n",
    "ft = fasttext.load_model('cc.en.300.bin')"
   ]
  },
  {
   "cell_type": "code",
   "execution_count": 14,
   "metadata": {},
   "outputs": [
    {
     "name": "stdout",
     "output_type": "stream",
     "text": [
      "هَارِبًا\n",
      "40610\n"
     ]
    }
   ],
   "source": [
    "\n",
    "# letters = u\"هاربا\"\n",
    "# encoded_marks = 40610\n",
    "# x= join_word_diacritics(letters, encoded_marks, \"decimal\")\n",
    "# print(x)\n",
    "# print(extract_diacritics(x))"
   ]
  }
 ],
 "metadata": {
  "kernelspec": {
   "display_name": "Python 3",
   "language": "python",
   "name": "python3"
  },
  "language_info": {
   "codemirror_mode": {
    "name": "ipython",
    "version": 3
   },
   "file_extension": ".py",
   "mimetype": "text/x-python",
   "name": "python",
   "nbconvert_exporter": "python",
   "pygments_lexer": "ipython3",
   "version": "3.11.3"
  }
 },
 "nbformat": 4,
 "nbformat_minor": 2
}
