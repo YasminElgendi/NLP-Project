{
 "cells": [
  {
   "cell_type": "markdown",
   "metadata": {},
   "source": [
    "### Add all imports\n"
   ]
  },
  {
   "cell_type": "code",
   "execution_count": 1,
   "metadata": {},
   "outputs": [],
   "source": [
    "from utils import *\n",
    "import re\n",
    "from pyarabic.araby import strip_diacritics\n"
   ]
  },
  {
   "cell_type": "markdown",
   "metadata": {},
   "source": [
    "### Read Data"
   ]
  },
  {
   "cell_type": "code",
   "execution_count": 2,
   "metadata": {},
   "outputs": [
    {
     "name": "stdout",
     "output_type": "stream",
     "text": [
      "Read training set successfully\n",
      "Read validation set successfully\n"
     ]
    }
   ],
   "source": [
    "training_dataset = read_training_dataset()\n",
    "dev_dataset = read_dev_dataset()\n",
    "# test_dataset = read_test_dataset()\n",
    "\n",
    "letters, diacritics2id = get_letters() , get_diacritics2id()"
   ]
  },
  {
   "cell_type": "markdown",
   "metadata": {},
   "source": [
    "### Pre-process and clean data"
   ]
  },
  {
   "cell_type": "code",
   "execution_count": 3,
   "metadata": {},
   "outputs": [],
   "source": [
    "# 1- Clean the data\n",
    "\n",
    "# This pattern keeps Arabic letters, diacritics, and whitespaces and endlines\n",
    "pattern = re.compile(r'[^\\u0600-\\u06FF\\u0750-\\u077F\\u08A0-\\u08FF\\s,.؟،;:!?\\-\\'\"]')\n",
    "\n",
    "# Replace unmatched characters with an empty string\n",
    "cleaned_corpus = [re.sub(pattern, \"\", t) for t in training_dataset]\n",
    "cleaned_corpus = [re.sub(\"\\s\\s+\", \" \", c) for c in cleaned_corpus]\n",
    "\n",
    "# print(len(cleaned_corpus))\n",
    "\n",
    "data,labels = [],[]\n",
    "\n",
    "for c in cleaned_corpus:\n",
    "    sentences = re.split(r\"[,.؟،;:!?']+\", c)  # split on all punctuation\n",
    "    labels += sentences\n",
    "\n",
    "    without_dialects = [\n",
    "        strip_diacritics(s) for s in sentences\n",
    "    ]  # get the letters without dialects\n",
    "    data += without_dialects\n",
    "\n",
    "\n",
    "# remove any spaces from line\n",
    "data = [d.strip() for d in data]\n",
    "labels = [l.strip() for l in labels]\n",
    "\n",
    "# remove empty lines\n",
    "data = [i for i in data if i]\n",
    "labels = [i for i in labels if i]\n",
    "\n",
    "# write the clean corpora to file\n",
    "with open(\"./output_data/cleaned_corpus.txt\", \"w\", encoding=\"utf-8\") as f:\n",
    "    for l in cleaned_corpus:\n",
    "        f.write(l + \"\\n\")\n",
    "\n",
    "with open(\"./output_data/training_data.txt\", \"w\", encoding=\"utf-8\") as f:\n",
    "    for d in data:\n",
    "        f.write(str(d) + \"\\n\")\n",
    "\n",
    "with open(\"./output_data/labeled/training_labels.txt\", \"w\", encoding=\"utf-8\") as f:\n",
    "    for l in labels:\n",
    "        f.write(str(l) + \"\\n\")"
   ]
  },
  {
   "cell_type": "code",
   "execution_count": 4,
   "metadata": {},
   "outputs": [],
   "source": [
    "# 2- Tokenize to vocab and words\n",
    "vocab = set()\n",
    "tokenized_data = []\n",
    "vocab, tokenized_word, tokenized_letter = tokenize_to_vocab(labels, vocab)\n",
    "stemmedVocab = []\n",
    "\n",
    "\n",
    "with open(\"./output_data/vocab.txt\", \"w\", encoding=\"utf-8\") as f:\n",
    "    for v in vocab:\n",
    "        f.write(str(v) + \"\\n\")\n",
    "\n",
    "with open(\"./output_data/tokenized_data_sentences.txt\", \"w\", encoding=\"utf-8\") as f:\n",
    "    for ts in tokenized_word:\n",
    "        f.write(str(ts) + \"\\n\")\n",
    "\n",
    "# tokenized_letters = tokenize_to_letters(tokenized_data)\n",
    "with open(\"./output_data/tokenized_data_letters.txt\", \"w\", encoding=\"utf-8\") as f:\n",
    "    for tl in tokenized_letter:\n",
    "        f.write(str(tl) + \"\\n\")\n",
    "    \n",
    "\n",
    "\n"
   ]
  },
  {
   "cell_type": "code",
   "execution_count": null,
   "metadata": {},
   "outputs": [],
   "source": []
  },
  {
   "cell_type": "markdown",
   "metadata": {},
   "source": [
    "### Features & embeddings"
   ]
  },
  {
   "cell_type": "code",
   "execution_count": null,
   "metadata": {},
   "outputs": [],
   "source": []
  },
  {
   "cell_type": "markdown",
   "metadata": {},
   "source": [
    "### Prediction and Model"
   ]
  },
  {
   "cell_type": "code",
   "execution_count": null,
   "metadata": {},
   "outputs": [],
   "source": []
  }
 ],
 "metadata": {
  "kernelspec": {
   "display_name": "Python 3",
   "language": "python",
   "name": "python3"
  },
  "language_info": {
   "codemirror_mode": {
    "name": "ipython",
    "version": 3
   },
   "file_extension": ".py",
   "mimetype": "text/x-python",
   "name": "python",
   "nbconvert_exporter": "python",
   "pygments_lexer": "ipython3",
   "version": "3.11.3"
  }
 },
 "nbformat": 4,
 "nbformat_minor": 2
}
