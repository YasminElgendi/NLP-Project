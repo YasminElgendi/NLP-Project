{
 "cells": [
  {
   "cell_type": "markdown",
   "metadata": {},
   "source": [
    "### Add all imports\n"
   ]
  },
  {
   "cell_type": "code",
   "execution_count": 1,
   "metadata": {},
   "outputs": [],
   "source": [
    "from utils import *\n",
    "import re\n",
    "from pyarabic.araby import strip_diacritics\n",
    "import numpy as np\n"
   ]
  },
  {
   "cell_type": "markdown",
   "metadata": {},
   "source": [
    "### Read Data"
   ]
  },
  {
   "cell_type": "code",
   "execution_count": 2,
   "metadata": {},
   "outputs": [
    {
     "name": "stdout",
     "output_type": "stream",
     "text": [
      "Read training set successfully\n",
      "Read validation set successfully\n"
     ]
    }
   ],
   "source": [
    "training_dataset = read_training_dataset()\n",
    "dev_dataset = read_dev_dataset()\n",
    "# test_dataset = read_test_dataset()\n"
   ]
  },
  {
   "cell_type": "markdown",
   "metadata": {},
   "source": [
    "### Pre-process and clean data"
   ]
  },
  {
   "cell_type": "code",
   "execution_count": 3,
   "metadata": {},
   "outputs": [],
   "source": [
    "# 1- Clean the data\n",
    "\n",
    "# This pattern keeps Arabic letters, diacritics, and whitespaces and endlines\n",
    "pattern = re.compile(r'[^\\u0600-\\u06FF\\u0750-\\u077F\\u08A0-\\u08FF\\s,.؟،;:!?\\-\\'\"]')\n",
    "\n",
    "# Replace unmatched characters with an empty string\n",
    "cleaned_corpus = [re.sub(pattern, \"\", t) for t in training_dataset]\n",
    "cleaned_corpus = [re.sub(\"\\s\\s+\", \" \", c) for c in cleaned_corpus]\n",
    "\n",
    "# print(len(cleaned_corpus))\n",
    "\n",
    "data,labels = [],[]\n",
    "\n",
    "for c in cleaned_corpus:\n",
    "    sentences = re.split(r\"[,.؟،;:!?']+\", c)  # split on all punctuation\n",
    "    labels += sentences\n",
    "\n",
    "    without_dialects = [\n",
    "        strip_diacritics(s) for s in sentences\n",
    "    ]  # get the letters without dialects\n",
    "    data += without_dialects\n",
    "\n",
    "\n",
    "# remove any spaces from line\n",
    "data = [d.strip() for d in data]\n",
    "labels = [l.strip() for l in labels]\n",
    "\n",
    "# remove empty lines\n",
    "data = [i for i in data if i]\n",
    "labels = [i for i in labels if i]\n",
    "\n",
    "# write the clean corpora to file\n",
    "with open(\"./output_data/cleaned_corpus.txt\", \"w\", encoding=\"utf-8\") as f:\n",
    "    for l in cleaned_corpus:\n",
    "        f.write(l + \"\\n\")\n",
    "\n",
    "with open(\"./output_data/training_data.txt\", \"w\", encoding=\"utf-8\") as f:\n",
    "    for d in data:\n",
    "        f.write(str(d) + \"\\n\")\n",
    "\n",
    "with open(\"./output_data/labeled/training_labels.txt\", \"w\", encoding=\"utf-8\") as f:\n",
    "    for l in labels:\n",
    "        f.write(str(l) + \"\\n\")"
   ]
  },
  {
   "cell_type": "code",
   "execution_count": 4,
   "metadata": {},
   "outputs": [],
   "source": [
    "# 2- Tokenize to vocab and words\n",
    "vocab = set()\n",
    "tokenized_data = []\n",
    "vocab, tokenized_word_sentence, tokenized_letter_sentence, tokenized_diacritics_sentence = tokenize_to_vocab(labels, vocab)\n",
    "stemmedVocab = []\n",
    "\n",
    "# Save the vocab to file each word in a line\n",
    "with open(\"./output_data/vocab.txt\", \"w\", encoding=\"utf-8\") as f:\n",
    "    for v in vocab:\n",
    "        f.write(str(v) + \"\\n\")\n",
    "\n",
    "# save the tokenized data sentence, as a form of list with <s> in index 0 and </s> in the last index\n",
    "        # in between are words\n",
    "with open(\"./output_data/tokenized_data_sentences.txt\", \"w\", encoding=\"utf-8\") as f:\n",
    "    for ts in tokenized_word_sentence:\n",
    "        f.write(str(ts) + \"\\n\")\n",
    "\n",
    "# save the tokenized data sentence, as a form of list with <s> in index 0 and </s> in the last index\n",
    "        # in between are lists of letters\n",
    "with open(\"./output_data/tokenized_data_letters.txt\", \"w\", encoding=\"utf-8\") as f:\n",
    "    for tl in tokenized_letter_sentence:\n",
    "        f.write(str(tl) + \"\\n\")\n",
    "\n",
    "# save the tokenized data sentence, as a form of list with <s> in index 0 and </s> in the last index\n",
    "        # in between are lists of diacritics\n",
    "with open(\"./output_data/tokenized_data_diacritics.txt\", \"w\", encoding=\"utf-8\") as f:\n",
    "    for td in tokenized_diacritics_sentence:\n",
    "        f.write(str(td) + \"\\n\")\n"
   ]
  },
  {
   "cell_type": "markdown",
   "metadata": {},
   "source": [
    "### Features & embeddings"
   ]
  },
  {
   "cell_type": "code",
   "execution_count": 5,
   "metadata": {},
   "outputs": [],
   "source": [
    "#1- Read data embeddings we have for letters and diacritics\n",
    "letters, diacritics, diacritics2id = get_letters() , get_diacritics(), get_diacritics2id()\n",
    "\n",
    "#2- Have mapping ready\n",
    "#### Letters ---- IDs\n",
    "letters2id = {item: index for index, item in enumerate(letters)}\n",
    "id2letters = {index: item for index, item in enumerate(letters)}\n",
    "# print(letters2id['م'])\n",
    "# print(id2letters[34])\n",
    "\n",
    "#### Diacritics ---- IDs\n",
    "id2diacritics = {index: item for index, item in enumerate(diacritics)}\n",
    "# print(diacritics2id['ُ'])\n",
    "# print(id2diacritics[2])\n"
   ]
  },
  {
   "cell_type": "code",
   "execution_count": 6,
   "metadata": {},
   "outputs": [
    {
     "ename": "TypeError",
     "evalue": "map_data() missing 1 required positional argument: 'data_raw'",
     "output_type": "error",
     "traceback": [
      "\u001b[1;31m---------------------------------------------------------------------------\u001b[0m",
      "\u001b[1;31mTypeError\u001b[0m                                 Traceback (most recent call last)",
      "Cell \u001b[1;32mIn[6], line 2\u001b[0m\n\u001b[0;32m      1\u001b[0m \u001b[38;5;66;03m# We map the letters and diacritics to an embedding of size 36 with the letters\u001b[39;00m\n\u001b[1;32m----> 2\u001b[0m \u001b[38;5;28minput\u001b[39m, output \u001b[38;5;241m=\u001b[39m \u001b[43mmap_data\u001b[49m\u001b[43m(\u001b[49m\u001b[43m)\u001b[49m\n",
      "\u001b[1;31mTypeError\u001b[0m: map_data() missing 1 required positional argument: 'data_raw'"
     ]
    }
   ],
   "source": [
    "\n",
    "# We map the letters and diacritics to an embedding of size 36 with the letters\n",
    "input, output = map_data()\n"
   ]
  },
  {
   "cell_type": "markdown",
   "metadata": {},
   "source": [
    "### Model"
   ]
  },
  {
   "cell_type": "code",
   "execution_count": null,
   "metadata": {},
   "outputs": [],
   "source": [
    "#1- We then pass the embeddings to an RNN Model\n",
    "# This model consists of an embedding layer, an RNN layer, and a fully connected layer. \n",
    "# The embedding layer transforms the input words (represented as integers) into dense vectors of fixed size. \n",
    "# The RNN layer processes these word embeddings sequentially, \n",
    "# maintaining an internal state that encodes information about the sequence so far. T\n",
    "# he fully connected layer transforms the output of the RNN layer to the desired output size."
   ]
  },
  {
   "cell_type": "code",
   "execution_count": null,
   "metadata": {},
   "outputs": [],
   "source": [
    "#2- Get Accuracy\n"
   ]
  },
  {
   "cell_type": "markdown",
   "metadata": {},
   "source": [
    "### Prediction"
   ]
  },
  {
   "cell_type": "code",
   "execution_count": null,
   "metadata": {},
   "outputs": [],
   "source": [
    "print(predict(\"العصفور فوق الشجرة\", model))"
   ]
  }
 ],
 "metadata": {
  "kernelspec": {
   "display_name": "Python 3",
   "language": "python",
   "name": "python3"
  },
  "language_info": {
   "codemirror_mode": {
    "name": "ipython",
    "version": 3
   },
   "file_extension": ".py",
   "mimetype": "text/x-python",
   "name": "python",
   "nbconvert_exporter": "python",
   "pygments_lexer": "ipython3",
   "version": "3.11.3"
  }
 },
 "nbformat": 4,
 "nbformat_minor": 2
}
