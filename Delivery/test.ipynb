{
 "cells": [
  {
   "cell_type": "code",
   "execution_count": 1,
   "metadata": {},
   "outputs": [
    {
     "name": "stdout",
     "output_type": "stream",
     "text": [
      "36\n",
      "{'َ': 0, 'ً': 1, 'ُ': 2, 'ٌ': 3, 'ِ': 4, 'ٍ': 5, 'ْ': 6, 'ّ': 7, 'َّ': 8, 'ًّ': 9, 'ُّ': 10, 'ٌّ': 11, 'ِّ': 12, 'ٍّ': 13, '': 14}\n"
     ]
    }
   ],
   "source": [
    "import pickle\n",
    "\n",
    "# Specify the path to your pickle file\n",
    "file_path = 'arabic_letters.pickle'\n",
    "\n",
    "# Open the file in binary mode ('rb' for reading binary)\n",
    "with open(file_path, 'rb') as file:\n",
    "    # Load the data from the pickle file\n",
    "    data = pickle.load(file)\n",
    "print(len(data))\n",
    "# Now 'data' contains the content of the pickle file\n",
    "\n",
    "file_path = 'diacritic2id.pickle'\n",
    "\n",
    "# Open the file in binary mode ('rb' for reading binary)\n",
    "with open(file_path, 'rb') as file:\n",
    "    # Load the data from the pickle file\n",
    "    diacritics = pickle.load(file)\n",
    "print(diacritics)\n",
    "with open(\"diac.txt\", \"w\", encoding=\"utf-8\") as f:\n",
    "    for v in diacritics:\n",
    "        f.write(str(v) + \"\\n\")"
   ]
  },
  {
   "cell_type": "code",
   "execution_count": 1,
   "metadata": {},
   "outputs": [
    {
     "name": "stdout",
     "output_type": "stream",
     "text": [
      "الْأَوَّلُ\n",
      "ا\n",
      "ل\n",
      "ْ\n",
      "ا\n",
      "َ\n",
      "ٔ\n",
      "و\n",
      "َ\n",
      "ّ\n",
      "ل\n",
      "ُ\n",
      "added to letters ا\n",
      "added to diacritics from 1st []\n",
      "added to letters ل\n",
      "added to diacritics ['ْ']\n",
      "added to letters ا\n",
      "added to diacritics ['َ', 'ٔ']\n",
      "added to letters و\n",
      "added to diacritics ['َ', 'ّ']\n",
      "added to letters ل\n",
      "added to diacritics ['ُ']\n",
      "Original Arabic Word: الْأَوَّلُ\n",
      "Separated Letters: ['ا', 'ل', 'ا', 'و', 'ل']\n",
      "Separated diacritics: [[], ['ْ'], ['َ', 'ٔ'], ['َ', 'ّ'], ['ُ']]\n"
     ]
    }
   ],
   "source": [
    "import unicodedata\n",
    "\n",
    "# def separate_arabic_to_letters(arabic_text):\n",
    "#     # Normalize the text to handle different Unicode representations\n",
    "#     normalized_text = unicodedata.normalize('NFKD', arabic_text)\n",
    "    \n",
    "#     # Separate the normalized text into individual letters\n",
    "#     letters = [char for char in normalized_text if not unicodedata.combining(char)]\n",
    "    \n",
    "#     return letters\n",
    "\n",
    "# Example usage\n",
    "arabic_word = \"الْأَوَّلُ\"\n",
    "# letters = separate_arabic_to_letters(arabic_word)\n",
    "# Normalize the text to handle different Unicode representations\n",
    "normalized_text = unicodedata.normalize('NFKD', arabic_word)\n",
    "print(arabic_word)\n",
    "# Separate the normalized text into individual letters\n",
    "letters =[]\n",
    "diacritics=[]\n",
    "ind=0\n",
    "while ind < len(normalized_text):\n",
    "    # print(ind,char)\n",
    "    print(normalized_text[ind])\n",
    "    ind=ind+1\n",
    "\n",
    "\n",
    "ind=0\n",
    "while ind < len(normalized_text):\n",
    "    temp=[]\n",
    "    if not unicodedata.combining(normalized_text[ind]):\n",
    "        letters.append(normalized_text[ind])\n",
    "        print(\"added to letters\",normalized_text[ind])\n",
    "\n",
    "        if(ind+1 < len(normalized_text) and not unicodedata.combining(normalized_text[ind+1])):\n",
    "            diacritics.append(temp)\n",
    "            print(\"added to diacritics from 1st\",temp)\n",
    "        ind+=1\n",
    "\n",
    "    else:\n",
    "        while ind < len(normalized_text) and unicodedata.combining(normalized_text[ind]):\n",
    "            # diacritics.pop(0)\n",
    "            temp.append(normalized_text[ind])\n",
    "            ind+=1\n",
    "        diacritics.append(temp)\n",
    "        print(\"added to diacritics\",temp)\n",
    "\n",
    "    \n",
    "    # if len(temp) > 0:\n",
    "    #     temp.pop\n",
    "    #     diacritics.append(temp)\n",
    "    \n",
    "    #Check if character has diacritic remove the redundant empty list\n",
    "        \n",
    "            \n",
    "# letters = [char for char in normalized_text if not unicodedata.combining(char)]\n",
    "# diacritics = [char for char in normalized_text if unicodedata.combining(char) != 0]\n",
    "\n",
    "print(\"Original Arabic Word:\", arabic_word)\n",
    "\n",
    "print(\"Separated Letters:\", letters)\n",
    "print(\"Separated diacritics:\", diacritics)\n"
   ]
  },
  {
   "cell_type": "code",
   "execution_count": null,
   "metadata": {},
   "outputs": [
    {
     "name": "stdout",
     "output_type": "stream",
     "text": [
      "و\n"
     ]
    }
   ],
   "source": [
    "import unicodedata\n",
    "\n",
    "def separate_arabic_to_letters(arabic_text):\n",
    "    # Normalize the text to handle different Unicode representations\n",
    "    normalized_text = unicodedata.normalize('NFKD', arabic_text)\n",
    "    \n",
    "    # Separate the normalized text into individual letters\n",
    "    letters = [char for char in normalized_text if not unicodedata.combining(char)]\n",
    "    \n",
    "    return letters\n",
    "\n",
    "tokenized_sentence = ['<s>', 'أَوْ', 'قَطَعَ', 'الْأَوَّلُ', 'يَدَهُ', 'إلَخْ', 'قَالَ', 'الزَّرْكَشِيُّ', '</s>']\n",
    "tokenized_letters =[]\n",
    "\n",
    "word_letters=[]\n",
    "for token in (tokenized_sentence):\n",
    "    if token != \"<s>\" and token != \"</s>\":\n",
    "        # letters = separate_arabic_to_letters(token)\n",
    "        word_letters.append(separate_arabic_to_letters(token))\n",
    "    \n",
    "\n",
    "print(word_letters[0][1])\n",
    "# print(tokenized_sentence[1])\n",
    " "
   ]
  },
  {
   "cell_type": "code",
   "execution_count": null,
   "metadata": {},
   "outputs": [
    {
     "name": "stdout",
     "output_type": "stream",
     "text": [
      "['ْ', 'َ', 'ّ', 'َ', 'ُ']\n"
     ]
    }
   ],
   "source": [
    "import unicodedata\n",
    "\n",
    "# def separate_diacritics(word):\n",
    "#     normalized_word = unicodedata.normalize('NFD', word)\n",
    "#     base_chars = ''.join(c for c in normalized_word if unicodedata.combining(c) == 0)\n",
    "#     diacritics = ''.join(c for c in normalized_word if unicodedata.combining(c) != 0)\n",
    "#     return base_chars, diacritics\n",
    "\n",
    "# Example usage:\n",
    "# word = 'قَوْلُهُ'\n",
    "# for i,l in enumerate(word):\n",
    "#     print(i,l)\n",
    "\n",
    "# base_chars, diacritics = separate_diacritics(word)\n",
    "# print(f'Base characters: {base_chars}')\n",
    "# print(f'Diacritics: {diacritics}')\n",
    "\n",
    "\n",
    "# normalized_word = unicodedata.normalize('NFD', word)\n",
    "# print(normalized_word)\n",
    "# base_chars = ''.join(c for c in normalized_word if unicodedata.combining(c) == 0)\n",
    "# print(base_chars)\n",
    "# diacritics = ''.join(c for c in normalized_word if unicodedata.combining(c) != 0)\n",
    "# print(diacritics)\n",
    "\n",
    "sentence = ['<s>', 'الْأَوَّلُ', '</s>']\n",
    "d=[]\n",
    "for token in sentence:\n",
    "    if token != \"<s>\" and token != \"</s>\":\n",
    "        for index,letter in enumerate(token):\n",
    "            # print(letter)\n",
    "            d.append(str(letter)) if  unicodedata.combining(letter) != 0 else None\n",
    "        print (d)\n",
    "\n",
    "# def combine_diacritics(diacritics):\n",
    "#     combined_diacritics = unicodedata.normalize('NFC', diacritics)\n",
    "#     return combined_diacritics\n",
    "\n",
    "# # Example usage:\n",
    "# diacritics = 'َُِ'\n",
    "# combined_diacritics = combine_diacritics(diacritics)\n",
    "# print(f'Combined diacritics: {combined_diacritics}')\n"
   ]
  }
 ],
 "metadata": {
  "kernelspec": {
   "display_name": "Python 3",
   "language": "python",
   "name": "python3"
  },
  "language_info": {
   "codemirror_mode": {
    "name": "ipython",
    "version": 3
   },
   "file_extension": ".py",
   "mimetype": "text/x-python",
   "name": "python",
   "nbconvert_exporter": "python",
   "pygments_lexer": "ipython3",
   "version": "3.11.3"
  }
 },
 "nbformat": 4,
 "nbformat_minor": 2
}
