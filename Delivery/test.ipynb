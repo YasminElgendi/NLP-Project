{
 "cells": [
  {
   "cell_type": "code",
   "execution_count": 1,
   "metadata": {},
   "outputs": [
    {
     "name": "stdout",
     "output_type": "stream",
     "text": [
      "36\n"
     ]
    }
   ],
   "source": [
    "import pickle\n",
    "\n",
    "# Specify the path to your pickle file\n",
    "file_path = 'arabic_letters.pickle'\n",
    "\n",
    "# Open the file in binary mode ('rb' for reading binary)\n",
    "with open(file_path, 'rb') as file:\n",
    "    # Load the data from the pickle file\n",
    "    data = pickle.load(file)\n",
    "print(len(data))\n",
    "# Now 'data' contains the content of the pickle file"
   ]
  },
  {
   "cell_type": "code",
   "execution_count": 1,
   "metadata": {},
   "outputs": [
    {
     "name": "stdout",
     "output_type": "stream",
     "text": [
      "Original Arabic Word: مَلَكَةُ\n",
      "Separated Letters: ['م', 'ل', 'ك', 'ة']\n"
     ]
    }
   ],
   "source": [
    "import unicodedata\n",
    "\n",
    "def separate_arabic_to_letters(arabic_text):\n",
    "    # Normalize the text to handle different Unicode representations\n",
    "    normalized_text = unicodedata.normalize('NFKD', arabic_text)\n",
    "    \n",
    "    # Separate the normalized text into individual letters\n",
    "    letters = [char for char in normalized_text if not unicodedata.combining(char)]\n",
    "    \n",
    "    return letters\n",
    "\n",
    "# Example usage\n",
    "arabic_word = \"مَلَكَةُ\"\n",
    "letters = separate_arabic_to_letters(arabic_word)\n",
    "\n",
    "print(\"Original Arabic Word:\", arabic_word)\n",
    "print(\"Separated Letters:\", letters)\n"
   ]
  },
  {
   "cell_type": "code",
   "execution_count": 20,
   "metadata": {},
   "outputs": [
    {
     "name": "stdout",
     "output_type": "stream",
     "text": [
      "و\n"
     ]
    }
   ],
   "source": [
    "import unicodedata\n",
    "\n",
    "def separate_arabic_to_letters(arabic_text):\n",
    "    # Normalize the text to handle different Unicode representations\n",
    "    normalized_text = unicodedata.normalize('NFKD', arabic_text)\n",
    "    \n",
    "    # Separate the normalized text into individual letters\n",
    "    letters = [char for char in normalized_text if not unicodedata.combining(char)]\n",
    "    \n",
    "    return letters\n",
    "\n",
    "tokenized_sentence = ['<s>', 'أَوْ', 'قَطَعَ', 'الْأَوَّلُ', 'يَدَهُ', 'إلَخْ', 'قَالَ', 'الزَّرْكَشِيُّ', '</s>']\n",
    "tokenized_letters =[]\n",
    "\n",
    "word_letters=[]\n",
    "for token in (tokenized_sentence):\n",
    "    if token != \"<s>\" and token != \"</s>\":\n",
    "        # letters = separate_arabic_to_letters(token)\n",
    "        word_letters.append(separate_arabic_to_letters(token))\n",
    "    \n",
    "\n",
    "print(word_letters[0][1])\n",
    "# print(tokenized_sentence[1])\n",
    " "
   ]
  }
 ],
 "metadata": {
  "kernelspec": {
   "display_name": "Python 3",
   "language": "python",
   "name": "python3"
  },
  "language_info": {
   "codemirror_mode": {
    "name": "ipython",
    "version": 3
   },
   "file_extension": ".py",
   "mimetype": "text/x-python",
   "name": "python",
   "nbconvert_exporter": "python",
   "pygments_lexer": "ipython3",
   "version": "3.11.3"
  }
 },
 "nbformat": 4,
 "nbformat_minor": 2
}
